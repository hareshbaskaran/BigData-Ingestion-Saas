{
 "cells": [
  {
   "cell_type": "code",
   "execution_count": 0,
   "metadata": {
    "application/vnd.databricks.v1+cell": {
     "cellMetadata": {
      "byteLimit": 2048000,
      "rowLimit": 10000
     },
     "inputWidgets": {},
     "nuid": "5fa484f2-cc05-4ea3-ac85-876a1768abdd",
     "showTitle": false,
     "title": ""
    }
   },
   "outputs": [],
   "source": [
    "import datetime\n",
    "from pyspark.sql.functions import col   \n",
    "from pyspark.sql.functions import col, to_timestamp, date_format,concat, trunc,from_unixtime,lit"
   ]
  },
  {
   "cell_type": "code",
   "execution_count": 0,
   "metadata": {
    "application/vnd.databricks.v1+cell": {
     "cellMetadata": {
      "byteLimit": 2048000,
      "rowLimit": 10000
     },
     "inputWidgets": {},
     "nuid": "102ec47e-3c69-4428-ac50-0f82a23c3287",
     "showTitle": false,
     "title": ""
    }
   },
   "outputs": [],
   "source": [
    "#THE GIVEN SOURCE HAVE EXTRA ATTRIBUTE 'clientId' SO UNION IN 2 SPLITS \n",
    "#FROM THESE 2 SPLITS , SELECTED ATTRIBUTES WILL BE CARRIED AND UNION THEM INTO ONE DATAFRAME FOR TRANSFORMATION TASK\n",
    "\n",
    "#SPLIT ONE - UNION LIST OF ALL DFS INTO ONE \n",
    "table_names = []\n",
    "start_date = \"20160801\"\n",
    "end_date = \"20160803\"\n",
    "#end_date = \"20170631\"  use this , for testing using only 2 dataframes\n",
    "current_date = start_date\n",
    "while current_date <= end_date:\n",
    "    table_name = f\"bigquery-public-data.google_analytics_sample.ga_sessions_{current_date}\"\n",
    "    table_names.append(table_name)\n",
    "    current_date = (datetime.datetime.strptime(current_date, \"%Y%m%d\") + datetime.timedelta(days=1)).strftime(\"%Y%m%d\")\n",
    "dfs1 = []\n",
    "for table_name in table_names:\n",
    "    df_temp = spark.read.format(\"bigquery\") \\\n",
    "        .option(\"table\", table_name) \\\n",
    "        .load()\n",
    "    dfs1.append(df_temp)\n",
    "df = dfs1[0]\n",
    "for i in range(1, len(dfs1)):\n",
    "    df = df.union(dfs1[i]) "
   ]
  },
  {
   "cell_type": "code",
   "execution_count": 0,
   "metadata": {
    "application/vnd.databricks.v1+cell": {
     "cellMetadata": {
      "byteLimit": 2048000,
      "rowLimit": 10000
     },
     "inputWidgets": {},
     "nuid": "161d68cc-705e-4c84-a26f-ffb67a75f7fe",
     "showTitle": false,
     "title": ""
    }
   },
   "outputs": [],
   "source": [
    "#SPLIT TWO - UNION ALL TABLES CONTAINING CLIENTID AND DROPPING THE ATTRIBUTE AT LAST \n",
    "\n",
    "table_names = []\n",
    "start_date = \"20170701\"\n",
    "end_date = \"20170702\"\n",
    "# end_date = \"20170801\" use this , for testing using only 2 dataframes\n",
    "current_date = start_date\n",
    "while current_date <= end_date:\n",
    "    table_name = f\"bigquery-public-data.google_analytics_sample.ga_sessions_{current_date}\"\n",
    "    table_names.append(table_name)\n",
    "    current_date = (datetime.datetime.strptime(current_date, \"%Y%m%d\") + datetime.timedelta(days=1)).strftime(\"%Y%m%d\")\n",
    "dfs2 = []\n",
    "for table_name in table_names:\n",
    "    df_temp = spark.read.format(\"bigquery\") \\\n",
    "        .option(\"table\", table_name) \\\n",
    "        .load()\n",
    "    dfs2.append(df_temp)\n",
    "df2 = dfs2[0]\n",
    "for i in range(1, len(dfs2)):\n",
    "    df2 = df2.union(dfs2[i])\n",
    "df2=df2.drop('clientId')        "
   ]
  },
  {
   "cell_type": "code",
   "execution_count": 0,
   "metadata": {
    "application/vnd.databricks.v1+cell": {
     "cellMetadata": {
      "byteLimit": 2048000,
      "rowLimit": 10000
     },
     "inputWidgets": {},
     "nuid": "3fd2bd0a-16fd-4033-b987-2276f5938890",
     "showTitle": false,
     "title": ""
    }
   },
   "outputs": [],
   "source": [
    "#FEAUTURE SELECTION FOR AGGREGATION\n",
    "selected_col = [ \n",
    "    col(\"visitorId\").alias(\"visitorId\"),\n",
    "    col(\"visitNumber\").alias(\"visitNumber\"),\n",
    "    col(\"visitId\").alias(\"visitId\"),\n",
    "    col(\"visitStartTime\").alias(\"visitStartTime\"),\n",
    "    col(\"date\").alias(\"date\"),\n",
    "    col(\"totals.visits\").alias(\"visits\"),\n",
    "    col(\"totals.hits\").alias(\"hits\"),\n",
    "    col(\"totals.pageviews\").alias(\"pageviews\"),\n",
    "    col(\"totals.bounces\").alias(\"bounces\"),\n",
    "    col(\"totals.newVisits\").alias(\"newVisits\"),\n",
    "    col(\"totals.transactionRevenue\").alias(\"transactionRevenue\"),\n",
    "    col(\"totals.transactions\").alias(\"transaction\"),\n",
    "    col(\"totals.timeOnSite\").alias(\"timeOnSite\"),\n",
    "    col(\"totals.sessionQualityDim\").alias(\"sessionQualityDim\"),\n",
    "    col(\"trafficSource.referralPath\").alias(\"referralPath\"),\n",
    "    col(\"trafficSource.campaign\").alias(\"campaign\"),\n",
    "    col(\"trafficSource.source\").alias(\"source\"),\n",
    "    col(\"trafficSource.medium\").alias(\"medium\"),\n",
    "    col(\"trafficSource.adwordsClickInfo.criteriaParameters\").alias(\"criteriaParameters\"),\n",
    "    col(\"device.browser\").alias(\"browser\"),\n",
    "    col(\"device.operatingSystem\").alias(\"operatingSystem\"),\n",
    "    col(\"device.isMobile\").alias(\"isMobile\"),\n",
    "    col(\"device.deviceCategory\").alias(\"deviceCategory\"),\n",
    "    col(\"geoNetwork.continent\").alias(\"continent\"),\n",
    "    col(\"geoNetwork.subContinent\").alias(\"subContinent\"),\n",
    "    col(\"geoNetwork.country\").alias(\"country\"),\n",
    "    col(\"geoNetwork.networkDomain\").alias(\"networkDomain\"),\n",
    "    col(\"hits.hitNumber\").alias(\"hitNumber\"),\n",
    "    col(\"hits.time\").alias(\"time\"),\n",
    "    col(\"hits.hour\").alias(\"hour\"),\n",
    "    col(\"hits.minute\").alias(\"minute\"),\n",
    "    col(\"hits.isInteraction\").alias(\"isInteraction\"),\n",
    "    col(\"hits.isEntrance\").alias(\"isEntrance\"),\n",
    "    col(\"hits.isExit\").alias(\"isExit\"),\n",
    "    col(\"hits.referer\").alias(\"referer\"),\n",
    "    col(\"hits.page.pagePath\").alias(\"pagePath\"),\n",
    "    col(\"hits.page.hostname\").alias(\"hostname\"),\n",
    "    col(\"hits.page.pageTitle\").alias(\"pageTitle\"),\n",
    "    col(\"hits.page.pagePathLevel1\").alias(\"pagePathLevel1\"),\n",
    "    col(\"hits.page.pagePathLevel2\").alias(\"pagePathLevel2\"),\n",
    "    col(\"hits.page.pagePathLevel3\").alias(\"pagePathLevel3\"),\n",
    "    col(\"hits.appInfo.screenName\").alias(\"screenName\"),\n",
    "    col(\"hits.appInfo.landingScreenName\").alias(\"landingScreenName\"),\n",
    "    col(\"hits.appInfo.exitScreenName\").alias(\"exitScreenName\"),\n",
    "    col(\"hits.appInfo.screenDepth\").alias(\"screenDepth\"),\n",
    "    col(\"hits.exceptionInfo.isFatal\").alias(\"isFatal\"),\n",
    "    col(\"hits.eCommerceAction.action_type\").alias(\"action_type\"),\n",
    "    col(\"hits.eCommerceAction.step\").alias(\"step\"),\n",
    "    col(\"hits.social.socialNetwork\").alias(\"socialNetwork\"),\n",
    "    col(\"hits.contentGroup.contentGroup1\").alias(\"contentGroup1\"),\n",
    "    col(\"hits.contentGroup.contentGroup2\").alias(\"contentGroup2\"),\n",
    "    col(\"hits.contentGroup.previousContentGroup1\").alias(\"previousContentGroup1\"),\n",
    "    col(\"hits.contentGroup.previousContentGroup2\").alias(\"previousContentGroup2\"),\n",
    "    col(\"hits.dataSource\").alias(\"dataSource\"),\n",
    "    col(\"fullVisitorId\").alias(\"fullVisitorId\"),\n",
    "    col(\"channelGrouping\").alias(\"channelGrouping\"),\n",
    "    col(\"socialEngagementType\").alias(\"socialEngagementType\")]"
   ]
  },
  {
   "cell_type": "code",
   "execution_count": 0,
   "metadata": {
    "application/vnd.databricks.v1+cell": {
     "cellMetadata": {
      "byteLimit": 2048000,
      "rowLimit": 10000
     },
     "inputWidgets": {},
     "nuid": "74d9347d-9c0a-4233-8509-24b93526cce7",
     "showTitle": false,
     "title": ""
    }
   },
   "outputs": [],
   "source": [
    "#UNION INTO ONE \n",
    "df = df.select(selected_col)\n",
    "df2=df2.select(selected_col)\n",
    "df=df.union(df2)"
   ]
  },
  {
   "cell_type": "code",
   "execution_count": 0,
   "metadata": {
    "application/vnd.databricks.v1+cell": {
     "cellMetadata": {
      "byteLimit": 2048000,
      "rowLimit": 10000
     },
     "inputWidgets": {},
     "nuid": "1cc74ac8-7d12-41d1-a721-2e67d70b28b8",
     "showTitle": false,
     "title": ""
    }
   },
   "outputs": [],
   "source": [
    "#GENERATING TIMESTAMPS FOR GIVEN JOB CONFIGURATION IN TRANSFORMATION PROCESS\n",
    "df = df.withColumn(\"timestamp_daily_formatted\", to_timestamp(col(\"date\"), \"yyyyMMdd\"))\n",
    "df = df.withColumn(\"timestamp_daily\", date_format(col(\"timestamp_daily_formatted\"), \"yyyy-MM-dd'T'HH:mm:ss\"))\n",
    "df = df.withColumn(\"timestamp_weekly\", date_format(trunc(col(\"timestamp_daily_formatted\"), \"week\"), \"yyyy-MM-dd'T'HH:mm:ss\"))\n",
    "df = df.withColumn(\"timestamp_monthly\", date_format(trunc(col(\"timestamp_daily_formatted\"), \"month\"), \"yyyy-MM-dd'T'HH:mm:ss\"))\n",
    "df = df.withColumn(\"timestamp_quarterly\", date_format(trunc(col(\"timestamp_daily_formatted\"), \"quarter\"), \"yyyy-MM-dd'T'HH:mm:ss\"))\n",
    "df = df.withColumn(\"timestamp_yearly\", date_format(trunc(col(\"timestamp_daily_formatted\"), \"year\"), \"yyyy-MM-dd'T'HH:mm:ss\"))\n",
    "df = df.withColumn(\"hourly_timestamp\", from_unixtime(col(\"visitStartTime\"), \"yyyy-MM-dd'T'HH:mm:ss\"))\n",
    "df = df.withColumn(\"timestamp_hourly\", concat(date_format(\"hourly_timestamp\", \"yyyy-MM-dd'T'HH\"), lit(\":00:00\")))\n",
    "df=df.drop('timestamp_daily_formatted')\n",
    "df=df.drop('hourly_timestamp')"
   ]
  },
  {
   "cell_type": "code",
   "execution_count": 0,
   "metadata": {
    "application/vnd.databricks.v1+cell": {
     "cellMetadata": {
      "byteLimit": 2048000,
      "rowLimit": 10000
     },
     "inputWidgets": {},
     "nuid": "7e67a04a-55f5-4853-800c-dbb892e1b42c",
     "showTitle": false,
     "title": ""
    }
   },
   "outputs": [
    {
     "output_type": "stream",
     "name": "stdout",
     "output_type": "stream",
     "text": [
      "Out[21]: False"
     ]
    }
   ],
   "source": [
    "spark.catalog.tableExists(\"extract_df\")"
   ]
  },
  {
   "cell_type": "code",
   "execution_count": 0,
   "metadata": {
    "application/vnd.databricks.v1+cell": {
     "cellMetadata": {
      "byteLimit": 2048000,
      "rowLimit": 10000
     },
     "inputWidgets": {},
     "nuid": "eb39d16b-1ede-4b98-9ff7-8e23a888cfa1",
     "showTitle": false,
     "title": ""
    }
   },
   "outputs": [
    {
     "output_type": "stream",
     "name": "stdout",
     "output_type": "stream",
     "text": [
      "Out[22]: True"
     ]
    }
   ],
   "source": [
    "dbutils.fs.rm(\"dbfs:/user/hive/warehouse/extract_df\", True)"
   ]
  },
  {
   "cell_type": "code",
   "execution_count": 0,
   "metadata": {
    "application/vnd.databricks.v1+cell": {
     "cellMetadata": {
      "byteLimit": 2048000,
      "rowLimit": 10000
     },
     "inputWidgets": {},
     "nuid": "f95daedf-e169-464c-965f-f5319bf40f5d",
     "showTitle": false,
     "title": ""
    }
   },
   "outputs": [
    {
     "output_type": "stream",
     "name": "stdout",
     "output_type": "stream",
     "text": [
      "Out[19]: DataFrame[]"
     ]
    }
   ],
   "source": [
    "spark.sql(\"DROP TABLE IF EXISTS extract_df\")"
   ]
  },
  {
   "cell_type": "code",
   "execution_count": 0,
   "metadata": {
    "application/vnd.databricks.v1+cell": {
     "cellMetadata": {
      "byteLimit": 2048000,
      "rowLimit": 10000
     },
     "inputWidgets": {},
     "nuid": "8c3f87aa-7ee1-466c-aadd-e232bab793b8",
     "showTitle": false,
     "title": ""
    }
   },
   "outputs": [],
   "source": [
    "df.write.format(\"delta\").option(\"path\", \"dbfs:/user/hive/warehouse/extract_df\").saveAsTable(\"extract_df\")"
   ]
  }
 ],
 "metadata": {
  "application/vnd.databricks.v1+notebook": {
   "dashboards": [
    {
     "elements": [],
     "globalVars": {},
     "guid": "bc47da45-8a32-44d6-a8cb-1b92cd80b173",
     "layoutOption": {
      "grid": true,
      "stack": true
     },
     "nuid": "b9ebfb3b-a275-4ac1-9e90-c497877a36f0",
     "origId": 1377396764506324,
     "title": "Untitled",
     "version": "DashboardViewV1",
     "width": 1024
    }
   ],
   "language": "python",
   "notebookMetadata": {
    "pythonIndentUnit": 4
   },
   "notebookName": "extract_BQ",
   "widgets": {}
  }
 },
 "nbformat": 4,
 "nbformat_minor": 0
}
